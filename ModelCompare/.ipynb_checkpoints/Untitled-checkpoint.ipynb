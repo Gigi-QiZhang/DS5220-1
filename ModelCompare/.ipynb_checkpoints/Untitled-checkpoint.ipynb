{
 "cells": [
  {
   "cell_type": "code",
   "execution_count": 2,
   "metadata": {},
   "outputs": [],
   "source": [
    "from sklearn.feature_extraction.text import TfidfVectorizer"
   ]
  },
  {
   "cell_type": "code",
   "execution_count": 32,
   "metadata": {},
   "outputs": [
    {
     "name": "stdout",
     "output_type": "stream",
     "text": [
      "[[ 0.57973867  0.          0.81480247]\n",
      " [ 0.57973867  0.81480247  0.        ]]\n",
      "{'hello': 0, 'world': 2, 'mars': 1}\n",
      "{'hello': 0, 'world': 2, 'same': 1}\n"
     ]
    }
   ],
   "source": [
    "tf = TfidfVectorizer()\n",
    "tf.fit([\"hello world\", \"hello mars\"])\n",
    "import numpy as np\n",
    "res = tf.transform([\"hello world\", \"hello mars\"])\n",
    "print(res.todense())\n",
    "print(tf.vocabulary_)\n",
    "tf.fit([\"hello world\", \"hello same\"])\n",
    "print(tf.vocabulary_)"
   ]
  },
  {
   "cell_type": "code",
   "execution_count": null,
   "metadata": {},
   "outputs": [],
   "source": [
    "import ggplot"
   ]
  }
 ],
 "metadata": {
  "kernelspec": {
   "display_name": "Python 3",
   "language": "python",
   "name": "python3"
  },
  "language_info": {
   "codemirror_mode": {
    "name": "ipython",
    "version": 3
   },
   "file_extension": ".py",
   "mimetype": "text/x-python",
   "name": "python",
   "nbconvert_exporter": "python",
   "pygments_lexer": "ipython3",
   "version": "3.6.3"
  }
 },
 "nbformat": 4,
 "nbformat_minor": 2
}
